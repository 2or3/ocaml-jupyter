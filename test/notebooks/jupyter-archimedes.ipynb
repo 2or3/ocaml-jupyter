{
 "cells": [
  {
   "cell_type": "code",
   "execution_count": 1,
   "metadata": {},
   "outputs": [],
   "source": [
    "#thread ;;",
    "#require \"jupyter.archimedes\" ;;\n",
    "let vp = A.init ~w:100. ~h:100. [\"jupyter\"] in\n",
    "A.Axes.box vp ;\n",
    "A.fx vp sin 0.0 10.0 ;\n",
    "A.close vp ;;\n"
   ]
  }
 ],
 "metadata": {
  "kernelspec": {
   "display_name": "OCaml",
   "language": "OCaml",
   "name": "__OCAML_KERNEL__"
  },
  "language_info": {
   "codemirror_mode": "text/x-ocaml",
   "file_extension": ".ml",
   "mimetype": "text/x-ocaml",
   "name": "OCaml",
   "nbconverter_exporter": null,
   "pygments_lexer": "OCaml",
   "version": "4.04.2"
  }
 },
 "nbformat": 4,
 "nbformat_minor": 2
}
